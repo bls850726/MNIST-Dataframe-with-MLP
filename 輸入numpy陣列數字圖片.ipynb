{
 "cells": [
  {
   "cell_type": "markdown",
   "id": "887c170c",
   "metadata": {},
   "source": [
    "## 資料預處理"
   ]
  },
  {
   "cell_type": "code",
   "execution_count": 1,
   "id": "4e27dc52",
   "metadata": {},
   "outputs": [
    {
     "name": "stderr",
     "output_type": "stream",
     "text": [
      "D:\\Python\\envs\\keras\\lib\\site-packages\\scipy\\__init__.py:146: UserWarning: A NumPy version >=1.16.5 and <1.23.0 is required for this version of SciPy (detected version 1.23.3\n",
      "  warnings.warn(f\"A NumPy version >={np_minversion} and <{np_maxversion}\"\n"
     ]
    }
   ],
   "source": [
    "import numpy as np\n",
    "from keras.datasets import mnist\n",
    "from keras.utils import to_categorical"
   ]
  },
  {
   "cell_type": "code",
   "execution_count": 18,
   "id": "7e2bf2be",
   "metadata": {},
   "outputs": [],
   "source": [
    "np.random.seed(7)"
   ]
  },
  {
   "cell_type": "code",
   "execution_count": 19,
   "id": "02ced647",
   "metadata": {},
   "outputs": [],
   "source": [
    "(X_train, Y_train), (X_test, Y_test) = mnist.load_data()"
   ]
  },
  {
   "cell_type": "code",
   "execution_count": 20,
   "id": "bf63d5ac",
   "metadata": {},
   "outputs": [],
   "source": [
    "X_train = X_train.reshape(X_train.shape[0],28*28).astype(\"float32\")"
   ]
  },
  {
   "cell_type": "code",
   "execution_count": 21,
   "id": "91e6059d",
   "metadata": {},
   "outputs": [
    {
     "name": "stdout",
     "output_type": "stream",
     "text": [
      "X_train Shape: (60000, 784)\n",
      "X_test Shape: (10000, 784)\n"
     ]
    }
   ],
   "source": [
    "X_test = X_test.reshape(X_test.shape[0],28*28).astype(\"float32\")\n",
    "print(\"X_train Shape:\", X_train.shape)\n",
    "print(\"X_test Shape:\", X_test.shape)"
   ]
  },
  {
   "cell_type": "markdown",
   "id": "a29fef76",
   "metadata": {},
   "source": [
    "## 正規化"
   ]
  },
  {
   "cell_type": "code",
   "execution_count": 22,
   "id": "ac44b3ff",
   "metadata": {},
   "outputs": [
    {
     "name": "stdout",
     "output_type": "stream",
     "text": [
      "[0.         0.         0.01176471 0.07058824 0.07058824 0.07058824\n",
      " 0.49411765 0.53333336 0.6862745  0.10196079 0.6509804  1.\n",
      " 0.96862745 0.49803922 0.         0.         0.         0.\n",
      " 0.         0.         0.         0.         0.         0.\n",
      " 0.        ]\n"
     ]
    }
   ],
   "source": [
    "X_train = X_train/255\n",
    "X_test = X_test/255\n",
    "print(X_train[0][150:175])"
   ]
  },
  {
   "cell_type": "markdown",
   "id": "efd95157",
   "metadata": {},
   "source": [
    "## One-hoting Encoding"
   ]
  },
  {
   "cell_type": "code",
   "execution_count": 23,
   "id": "f1c3bdfc",
   "metadata": {},
   "outputs": [
    {
     "name": "stdout",
     "output_type": "stream",
     "text": [
      "Y_train Shape:  (60000, 10)\n",
      "[0. 0. 0. 0. 0. 1. 0. 0. 0. 0.]\n"
     ]
    }
   ],
   "source": [
    "Y_train = to_categorical(Y_train)\n",
    "Y_test = to_categorical(Y_test)\n",
    "print(\"Y_train Shape: \", Y_train.shape)\n",
    "print(Y_train[0])"
   ]
  },
  {
   "cell_type": "markdown",
   "id": "df27cb34",
   "metadata": {},
   "source": [
    "## 訓練模型"
   ]
  },
  {
   "cell_type": "code",
   "execution_count": 33,
   "id": "3016de7a",
   "metadata": {},
   "outputs": [],
   "source": [
    "import numpy as np\n",
    "from keras.datasets import mnist\n",
    "from keras.models import Sequential\n",
    "from keras.layers import Dense\n",
    "from keras.utils import to_categorical\n",
    "import matplotlib.pyplot as plt"
   ]
  },
  {
   "cell_type": "code",
   "execution_count": 27,
   "id": "1eefdbfa",
   "metadata": {},
   "outputs": [
    {
     "name": "stdout",
     "output_type": "stream",
     "text": [
      "Model: \"sequential_1\"\n",
      "_________________________________________________________________\n",
      " Layer (type)                Output Shape              Param #   \n",
      "=================================================================\n",
      " dense_2 (Dense)             (None, 256)               200960    \n",
      "                                                                 \n",
      " dense_3 (Dense)             (None, 10)                2570      \n",
      "                                                                 \n",
      "=================================================================\n",
      "Total params: 203,530\n",
      "Trainable params: 203,530\n",
      "Non-trainable params: 0\n",
      "_________________________________________________________________\n"
     ]
    }
   ],
   "source": [
    "model = Sequential()\n",
    "model.add(Dense(256,input_dim=28*28,activation=\"relu\"))\n",
    "model.add(Dense(10,activation=\"softmax\"))\n",
    "model.summary()"
   ]
  },
  {
   "cell_type": "markdown",
   "id": "ccf173cc",
   "metadata": {},
   "source": [
    "## 編譯模型"
   ]
  },
  {
   "cell_type": "code",
   "execution_count": 28,
   "id": "91a140a1",
   "metadata": {},
   "outputs": [],
   "source": [
    "model.compile(loss=\"categorical_crossentropy\",optimizer=\"adam\",metrics=[\"accuracy\"])"
   ]
  },
  {
   "cell_type": "markdown",
   "id": "c5aee9e1",
   "metadata": {},
   "source": [
    "## 訓練模型"
   ]
  },
  {
   "cell_type": "code",
   "execution_count": 30,
   "id": "578f441e",
   "metadata": {},
   "outputs": [
    {
     "name": "stdout",
     "output_type": "stream",
     "text": [
      "Epoch 1/10\n",
      "375/375 - 2s - loss: 0.3443 - accuracy: 0.9030 - val_loss: 0.1797 - val_accuracy: 0.9504 - 2s/epoch - 6ms/step\n",
      "Epoch 2/10\n",
      "375/375 - 1s - loss: 0.1514 - accuracy: 0.9575 - val_loss: 0.1325 - val_accuracy: 0.9631 - 664ms/epoch - 2ms/step\n",
      "Epoch 3/10\n",
      "375/375 - 1s - loss: 0.1041 - accuracy: 0.9703 - val_loss: 0.1081 - val_accuracy: 0.9683 - 675ms/epoch - 2ms/step\n",
      "Epoch 4/10\n",
      "375/375 - 1s - loss: 0.0776 - accuracy: 0.9780 - val_loss: 0.1012 - val_accuracy: 0.9691 - 660ms/epoch - 2ms/step\n",
      "Epoch 5/10\n",
      "375/375 - 1s - loss: 0.0598 - accuracy: 0.9827 - val_loss: 0.0909 - val_accuracy: 0.9740 - 677ms/epoch - 2ms/step\n",
      "Epoch 6/10\n",
      "375/375 - 1s - loss: 0.0468 - accuracy: 0.9869 - val_loss: 0.0846 - val_accuracy: 0.9762 - 719ms/epoch - 2ms/step\n",
      "Epoch 7/10\n",
      "375/375 - 1s - loss: 0.0375 - accuracy: 0.9893 - val_loss: 0.0857 - val_accuracy: 0.9742 - 679ms/epoch - 2ms/step\n",
      "Epoch 8/10\n",
      "375/375 - 1s - loss: 0.0297 - accuracy: 0.9920 - val_loss: 0.0818 - val_accuracy: 0.9765 - 675ms/epoch - 2ms/step\n",
      "Epoch 9/10\n",
      "375/375 - 1s - loss: 0.0244 - accuracy: 0.9934 - val_loss: 0.0812 - val_accuracy: 0.9766 - 692ms/epoch - 2ms/step\n",
      "Epoch 10/10\n",
      "375/375 - 1s - loss: 0.0184 - accuracy: 0.9962 - val_loss: 0.0797 - val_accuracy: 0.9768 - 683ms/epoch - 2ms/step\n"
     ]
    }
   ],
   "source": [
    "history = model.fit(X_train, Y_train, validation_split=0.2,\n",
    "                    epochs=10, batch_size=128, verbose=2)"
   ]
  },
  {
   "cell_type": "code",
   "execution_count": 31,
   "id": "218a79ff",
   "metadata": {},
   "outputs": [
    {
     "name": "stdout",
     "output_type": "stream",
     "text": [
      "1875/1875 [==============================] - 2s 1ms/step - loss: 0.0264 - accuracy: 0.9937\n",
      "訓練資料集的準確度 = 0.99\n",
      "313/313 [==============================] - 0s 1ms/step - loss: 0.0716 - accuracy: 0.9790\n",
      "測試資料集的準確度 = 0.98\n"
     ]
    }
   ],
   "source": [
    "loss, accuracy = model.evaluate(X_train, Y_train)\n",
    "print(\"訓練資料集的準確度 = {:.2f}\".format(accuracy))\n",
    "loss, accuracy = model.evaluate(X_test, Y_test)\n",
    "print(\"測試資料集的準確度 = {:.2f}\".format(accuracy))"
   ]
  },
  {
   "cell_type": "code",
   "execution_count": 34,
   "id": "b5d92801",
   "metadata": {},
   "outputs": [
    {
     "data": {
      "image/png": "[encoded data removed]",
      "text/plain": [
       "<Figure size 432x288 with 1 Axes>"
      ]
     },
     "metadata": {
      "needs_background": "light"
     },
     "output_type": "display_data"
    }
   ],
   "source": [
    "loss = history.history[\"loss\"]\n",
    "epochs = range(1, len(loss)+1)\n",
    "val_loss = history.history[\"val_loss\"]\n",
    "plt.plot(epochs, loss, \"bo-\", label=\"Training Loss\")\n",
    "plt.plot(epochs, val_loss, \"ro--\", label=\"Validation Loss\")\n",
    "plt.title(\"Training and Validation Loss\")\n",
    "plt.xlabel(\"Epochs\")\n",
    "plt.ylabel(\"Loss\")\n",
    "plt.legend()\n",
    "plt.show()"
   ]
  },
  {
   "cell_type": "code",
   "execution_count": 40,
   "id": "f1b53372",
   "metadata": {},
   "outputs": [
    {
     "data": {
      "image/png": "[encoded data removed]",
      "text/plain": [
       "<Figure size 432x288 with 1 Axes>"
      ]
     },
     "metadata": {
      "needs_background": "light"
     },
     "output_type": "display_data"
    }
   ],
   "source": [
    "acc = history.history[\"accuracy\"]\n",
    "epochs = range(1, len(acc)+1)\n",
    "val_acc = history.history[\"val_accuracy\"]\n",
    "plt.plot(epochs, acc, \"bo-\", label=\"Training Acc\")\n",
    "plt.plot(epochs, val_acc, \"ro--\", label=\"Validation Acc\")\n",
    "plt.title(\"Training and Validation Accuracy\")\n",
    "plt.xlabel(\"Epochs\")\n",
    "plt.ylabel(\"Accuracy\")\n",
    "plt.legend()\n",
    "plt.show()"
   ]
  },
  {
   "cell_type": "markdown",
   "id": "32c5fc36",
   "metadata": {},
   "source": [
    "### 小結論:隨著訓練週期增加，訓練準確度有所提升，但驗證準確度的提升程度卻是愈來愈小，整體來看應該有過度擬合的問題存在"
   ]
  },
  {
   "cell_type": "markdown",
   "id": "d8431b30",
   "metadata": {},
   "source": [
    "### 因此接下來會再增加一層隱藏層以觀察是否還會有過度擬合"
   ]
  },
  {
   "cell_type": "code",
   "execution_count": 41,
   "id": "560f83d0",
   "metadata": {},
   "outputs": [],
   "source": [
    "model = Sequential()\n",
    "model.add(Dense(256, input_dim=784, activation=\"relu\"))\n",
    "model.add(Dense(256, activation=\"relu\"))\n",
    "model.add(Dense(10, activation=\"softmax\"))"
   ]
  },
  {
   "cell_type": "code",
   "execution_count": 42,
   "id": "1be56789",
   "metadata": {},
   "outputs": [
    {
     "name": "stdout",
     "output_type": "stream",
     "text": [
      "Model: \"sequential_2\"\n",
      "_________________________________________________________________\n",
      " Layer (type)                Output Shape              Param #   \n",
      "=================================================================\n",
      " dense_4 (Dense)             (None, 256)               200960    \n",
      "                                                                 \n",
      " dense_5 (Dense)             (None, 256)               65792     \n",
      "                                                                 \n",
      " dense_6 (Dense)             (None, 10)                2570      \n",
      "                                                                 \n",
      "=================================================================\n",
      "Total params: 269,322\n",
      "Trainable params: 269,322\n",
      "Non-trainable params: 0\n",
      "_________________________________________________________________\n"
     ]
    }
   ],
   "source": [
    "model.summary()"
   ]
  },
  {
   "cell_type": "code",
   "execution_count": 43,
   "id": "63cac7ba",
   "metadata": {},
   "outputs": [],
   "source": [
    "model.compile(loss=\"categorical_crossentropy\", optimizer=\"adam\",\n",
    "              metrics=[\"accuracy\"])"
   ]
  },
  {
   "cell_type": "code",
   "execution_count": 44,
   "id": "b63e62d5",
   "metadata": {},
   "outputs": [
    {
     "name": "stdout",
     "output_type": "stream",
     "text": [
      "Epoch 1/10\n",
      "375/375 - 1s - loss: 0.2960 - accuracy: 0.9158 - val_loss: 0.1362 - val_accuracy: 0.9600 - 1s/epoch - 4ms/step\n",
      "Epoch 2/10\n",
      "375/375 - 1s - loss: 0.1114 - accuracy: 0.9664 - val_loss: 0.1016 - val_accuracy: 0.9699 - 809ms/epoch - 2ms/step\n",
      "Epoch 3/10\n",
      "375/375 - 1s - loss: 0.0712 - accuracy: 0.9780 - val_loss: 0.0938 - val_accuracy: 0.9723 - 854ms/epoch - 2ms/step\n",
      "Epoch 4/10\n",
      "375/375 - 1s - loss: 0.0520 - accuracy: 0.9831 - val_loss: 0.0899 - val_accuracy: 0.9744 - 810ms/epoch - 2ms/step\n",
      "Epoch 5/10\n",
      "375/375 - 1s - loss: 0.0368 - accuracy: 0.9883 - val_loss: 0.0884 - val_accuracy: 0.9741 - 836ms/epoch - 2ms/step\n",
      "Epoch 6/10\n",
      "375/375 - 1s - loss: 0.0274 - accuracy: 0.9910 - val_loss: 0.0828 - val_accuracy: 0.9776 - 863ms/epoch - 2ms/step\n",
      "Epoch 7/10\n",
      "375/375 - 1s - loss: 0.0207 - accuracy: 0.9935 - val_loss: 0.1020 - val_accuracy: 0.9758 - 861ms/epoch - 2ms/step\n",
      "Epoch 8/10\n",
      "375/375 - 1s - loss: 0.0189 - accuracy: 0.9937 - val_loss: 0.1068 - val_accuracy: 0.9736 - 784ms/epoch - 2ms/step\n",
      "Epoch 9/10\n",
      "375/375 - 1s - loss: 0.0140 - accuracy: 0.9952 - val_loss: 0.1031 - val_accuracy: 0.9749 - 743ms/epoch - 2ms/step\n",
      "Epoch 10/10\n",
      "375/375 - 1s - loss: 0.0137 - accuracy: 0.9956 - val_loss: 0.1143 - val_accuracy: 0.9723 - 793ms/epoch - 2ms/step\n"
     ]
    }
   ],
   "source": [
    "history = model.fit(X_train, Y_train, validation_split=0.2,\n",
    "                    epochs=10, batch_size=128, verbose=2)"
   ]
  },
  {
   "cell_type": "code",
   "execution_count": 45,
   "id": "5952e73e",
   "metadata": {},
   "outputs": [
    {
     "name": "stdout",
     "output_type": "stream",
     "text": [
      "1875/1875 [==============================] - 2s 1ms/step - loss: 0.0343 - accuracy: 0.9908\n",
      "訓練資料集的準確度 = 0.99\n",
      "313/313 [==============================] - 0s 1ms/step - loss: 0.0934 - accuracy: 0.9774\n",
      "測試資料集的準確度 = 0.98\n"
     ]
    }
   ],
   "source": [
    "loss, accuracy = model.evaluate(X_train, Y_train)\n",
    "print(\"訓練資料集的準確度 = {:.2f}\".format(accuracy))\n",
    "loss, accuracy = model.evaluate(X_test, Y_test)\n",
    "print(\"測試資料集的準確度 = {:.2f}\".format(accuracy))"
   ]
  },
  {
   "cell_type": "code",
   "execution_count": 46,
   "id": "49d93ac4",
   "metadata": {},
   "outputs": [
    {
     "data": {
      "image/png": "[encoded data removed]",
      "text/plain": [
       "<Figure size 432x288 with 1 Axes>"
      ]
     },
     "metadata": {
      "needs_background": "light"
     },
     "output_type": "display_data"
    }
   ],
   "source": [
    "loss = history.history[\"loss\"]\n",
    "epochs = range(1, len(loss)+1)\n",
    "val_loss = history.history[\"val_loss\"]\n",
    "plt.plot(epochs, loss, \"bo-\", label=\"Training Loss\")\n",
    "plt.plot(epochs, val_loss, \"ro--\", label=\"Validation Loss\")\n",
    "plt.title(\"Training and Validation Loss\")\n",
    "plt.xlabel(\"Epochs\")\n",
    "plt.ylabel(\"Loss\")\n",
    "plt.legend()\n",
    "plt.show()"
   ]
  },
  {
   "cell_type": "markdown",
   "id": "e985c413",
   "metadata": {},
   "source": [
    "### 小結論:驗證損失與測試損失的差異愈來愈大，因此增加一層隱藏層似乎也無法解決過度擬合"
   ]
  },
  {
   "cell_type": "code",
   "execution_count": 47,
   "id": "13afc9d9",
   "metadata": {},
   "outputs": [
    {
     "data": {
      "image/png": "[encoded data removed]",
      "text/plain": [
       "<Figure size 432x288 with 1 Axes>"
      ]
     },
     "metadata": {
      "needs_background": "light"
     },
     "output_type": "display_data"
    }
   ],
   "source": [
    "acc = history.history[\"accuracy\"]\n",
    "epochs = range(1, len(acc)+1)\n",
    "val_acc = history.history[\"val_accuracy\"]\n",
    "plt.plot(epochs, acc, \"bo-\", label=\"Training Acc\")\n",
    "plt.plot(epochs, val_acc, \"ro--\", label=\"Validation Acc\")\n",
    "plt.title(\"Training and Validation Accuracy\")\n",
    "plt.xlabel(\"Epochs\")\n",
    "plt.ylabel(\"Accuracy\")\n",
    "plt.legend()\n",
    "plt.show()"
   ]
  },
  {
   "cell_type": "markdown",
   "id": "c1fdd474",
   "metadata": {},
   "source": [
    "## 新增一層50% DropOut 層"
   ]
  },
  {
   "cell_type": "code",
   "execution_count": 49,
   "id": "81e05217",
   "metadata": {},
   "outputs": [],
   "source": [
    "from keras.layers import Dropout"
   ]
  },
  {
   "cell_type": "code",
   "execution_count": 50,
   "id": "ecc195ab",
   "metadata": {},
   "outputs": [],
   "source": [
    "model = Sequential()\n",
    "model.add(Dense(256, input_dim=784, activation=\"relu\"))\n",
    "model.add(Dropout(0.5))\n",
    "model.add(Dense(256, activation=\"relu\"))\n",
    "model.add(Dense(10, activation=\"softmax\"))"
   ]
  },
  {
   "cell_type": "code",
   "execution_count": 51,
   "id": "5f191e60",
   "metadata": {},
   "outputs": [
    {
     "name": "stdout",
     "output_type": "stream",
     "text": [
      "Model: \"sequential_4\"\n",
      "_________________________________________________________________\n",
      " Layer (type)                Output Shape              Param #   \n",
      "=================================================================\n",
      " dense_8 (Dense)             (None, 256)               200960    \n",
      "                                                                 \n",
      " dropout (Dropout)           (None, 256)               0         \n",
      "                                                                 \n",
      " dense_9 (Dense)             (None, 256)               65792     \n",
      "                                                                 \n",
      " dense_10 (Dense)            (None, 10)                2570      \n",
      "                                                                 \n",
      "=================================================================\n",
      "Total params: 269,322\n",
      "Trainable params: 269,322\n",
      "Non-trainable params: 0\n",
      "_________________________________________________________________\n"
     ]
    }
   ],
   "source": [
    "model.summary()"
   ]
  },
  {
   "cell_type": "code",
   "execution_count": 52,
   "id": "52dbb6cd",
   "metadata": {},
   "outputs": [],
   "source": [
    "model.compile(loss=\"categorical_crossentropy\", optimizer=\"adam\",\n",
    "              metrics=[\"accuracy\"])"
   ]
  },
  {
   "cell_type": "code",
   "execution_count": 53,
   "id": "4e918df7",
   "metadata": {},
   "outputs": [
    {
     "name": "stdout",
     "output_type": "stream",
     "text": [
      "Epoch 1/10\n",
      "375/375 - 2s - loss: 0.3982 - accuracy: 0.8791 - val_loss: 0.1515 - val_accuracy: 0.9548 - 2s/epoch - 5ms/step\n",
      "Epoch 2/10\n",
      "375/375 - 1s - loss: 0.1879 - accuracy: 0.9434 - val_loss: 0.1195 - val_accuracy: 0.9631 - 896ms/epoch - 2ms/step\n",
      "Epoch 3/10\n",
      "375/375 - 1s - loss: 0.1479 - accuracy: 0.9544 - val_loss: 0.0991 - val_accuracy: 0.9688 - 791ms/epoch - 2ms/step\n",
      "Epoch 4/10\n",
      "375/375 - 1s - loss: 0.1246 - accuracy: 0.9613 - val_loss: 0.0919 - val_accuracy: 0.9719 - 809ms/epoch - 2ms/step\n",
      "Epoch 5/10\n",
      "375/375 - 1s - loss: 0.1127 - accuracy: 0.9653 - val_loss: 0.0885 - val_accuracy: 0.9738 - 853ms/epoch - 2ms/step\n",
      "Epoch 6/10\n",
      "375/375 - 1s - loss: 0.0991 - accuracy: 0.9689 - val_loss: 0.0857 - val_accuracy: 0.9732 - 898ms/epoch - 2ms/step\n",
      "Epoch 7/10\n",
      "375/375 - 1s - loss: 0.0928 - accuracy: 0.9699 - val_loss: 0.0816 - val_accuracy: 0.9756 - 865ms/epoch - 2ms/step\n",
      "Epoch 8/10\n",
      "375/375 - 1s - loss: 0.0835 - accuracy: 0.9735 - val_loss: 0.0794 - val_accuracy: 0.9767 - 902ms/epoch - 2ms/step\n",
      "Epoch 9/10\n",
      "375/375 - 1s - loss: 0.0810 - accuracy: 0.9747 - val_loss: 0.0773 - val_accuracy: 0.9774 - 929ms/epoch - 2ms/step\n",
      "Epoch 10/10\n",
      "375/375 - 1s - loss: 0.0755 - accuracy: 0.9757 - val_loss: 0.0777 - val_accuracy: 0.9781 - 820ms/epoch - 2ms/step\n"
     ]
    }
   ],
   "source": [
    "history = model.fit(X_train, Y_train, validation_split=0.2,\n",
    "                    epochs=10, batch_size=128, verbose=2)"
   ]
  },
  {
   "cell_type": "code",
   "execution_count": 54,
   "id": "e18bbb26",
   "metadata": {},
   "outputs": [
    {
     "name": "stdout",
     "output_type": "stream",
     "text": [
      "1875/1875 [==============================] - 3s 1ms/step - loss: 0.0356 - accuracy: 0.9896\n",
      "訓練資料集的準確度 = 0.99\n",
      "313/313 [==============================] - 0s 1ms/step - loss: 0.0713 - accuracy: 0.9785\n",
      "測試資料集的準確度 = 0.98\n"
     ]
    }
   ],
   "source": [
    "loss, accuracy = model.evaluate(X_train, Y_train)\n",
    "print(\"訓練資料集的準確度 = {:.2f}\".format(accuracy))\n",
    "loss, accuracy = model.evaluate(X_test, Y_test)\n",
    "print(\"測試資料集的準確度 = {:.2f}\".format(accuracy))"
   ]
  },
  {
   "cell_type": "code",
   "execution_count": 56,
   "id": "d355bb66",
   "metadata": {},
   "outputs": [
    {
     "data": {
      "image/png": "[encoded data removed]",
      "text/plain": [
       "<Figure size 432x288 with 1 Axes>"
      ]
     },
     "metadata": {
      "needs_background": "light"
     },
     "output_type": "display_data"
    }
   ],
   "source": [
    "loss = history.history[\"loss\"]\n",
    "epochs = range(1, len(loss)+1)\n",
    "val_loss = history.history[\"val_loss\"]\n",
    "plt.plot(epochs, loss, \"bo-\", label=\"Training Loss\")\n",
    "plt.plot(epochs, val_loss, \"ro--\", label=\"Validation Loss\")\n",
    "plt.title(\"Training and Validation Loss\")\n",
    "plt.xlabel(\"Epochs\")\n",
    "plt.ylabel(\"Loss\")\n",
    "plt.legend()\n",
    "plt.show()"
   ]
  },
  {
   "cell_type": "code",
   "execution_count": 55,
   "id": "4c63b5bc",
   "metadata": {},
   "outputs": [
    {
     "data": {
      "image/png": "[encoded data removed]",
      "text/plain": [
       "<Figure size 432x288 with 1 Axes>"
      ]
     },
     "metadata": {
      "needs_background": "light"
     },
     "output_type": "display_data"
    }
   ],
   "source": [
    "acc = history.history[\"accuracy\"]\n",
    "epochs = range(1, len(acc)+1)\n",
    "val_acc = history.history[\"val_accuracy\"]\n",
    "plt.plot(epochs, acc, \"bo-\", label=\"Training Acc\")\n",
    "plt.plot(epochs, val_acc, \"ro--\", label=\"Validation Acc\")\n",
    "plt.title(\"Training and Validation Accuracy\")\n",
    "plt.xlabel(\"Epochs\")\n",
    "plt.ylabel(\"Accuracy\")\n",
    "plt.legend()\n",
    "plt.show()"
   ]
  }
 ],
 "metadata": {
  "kernelspec": {
   "display_name": "Python 3 (ipykernel)",
   "language": "python",
   "name": "python3"
  },
  "language_info": {
   "codemirror_mode": {
    "name": "ipython",
    "version": 3
   },
   "file_extension": ".py",
   "mimetype": "text/x-python",
   "name": "python",
   "nbconvert_exporter": "python",
   "pygments_lexer": "ipython3",
   "version": "3.8.13"
  }
 },
 "nbformat": 4,
 "nbformat_minor": 5
}
